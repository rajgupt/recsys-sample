{
 "cells": [
  {
   "cell_type": "code",
   "execution_count": 1,
   "id": "008d3f85",
   "metadata": {},
   "outputs": [],
   "source": [
    "import pandas as pd\n",
    "import numpy as np \n",
    "from surprise import Reader, Dataset, SVD\n",
    "from surprise.model_selection import cross_validate"
   ]
  },
  {
   "cell_type": "code",
   "execution_count": 2,
   "id": "261e52f1-b677-4c16-8f58-c650f51b8143",
   "metadata": {},
   "outputs": [],
   "source": [
    "from surprise import KNNBasic, accuracy\n",
    "from surprise.model_selection import train_test_split\n",
    "from surprise.dump import dump"
   ]
  },
  {
   "cell_type": "code",
   "execution_count": 3,
   "id": "cc63c085",
   "metadata": {},
   "outputs": [],
   "source": [
    "ratings = pd.read_csv('data/ratings.csv')\n",
    "movies = pd.read_csv('data/movies.csv')"
   ]
  },
  {
   "cell_type": "code",
   "execution_count": 4,
   "id": "29a5e946-b9a8-4339-a89a-d9a5ff3a3dc6",
   "metadata": {},
   "outputs": [
    {
     "data": {
      "text/html": [
       "<div>\n",
       "<style scoped>\n",
       "    .dataframe tbody tr th:only-of-type {\n",
       "        vertical-align: middle;\n",
       "    }\n",
       "\n",
       "    .dataframe tbody tr th {\n",
       "        vertical-align: top;\n",
       "    }\n",
       "\n",
       "    .dataframe thead th {\n",
       "        text-align: right;\n",
       "    }\n",
       "</style>\n",
       "<table border=\"1\" class=\"dataframe\">\n",
       "  <thead>\n",
       "    <tr style=\"text-align: right;\">\n",
       "      <th></th>\n",
       "      <th>movieId</th>\n",
       "      <th>title</th>\n",
       "      <th>genres</th>\n",
       "    </tr>\n",
       "  </thead>\n",
       "  <tbody>\n",
       "    <tr>\n",
       "      <th>0</th>\n",
       "      <td>1</td>\n",
       "      <td>Toy Story (1995)</td>\n",
       "      <td>Adventure|Animation|Children|Comedy|Fantasy</td>\n",
       "    </tr>\n",
       "    <tr>\n",
       "      <th>1</th>\n",
       "      <td>2</td>\n",
       "      <td>Jumanji (1995)</td>\n",
       "      <td>Adventure|Children|Fantasy</td>\n",
       "    </tr>\n",
       "    <tr>\n",
       "      <th>2</th>\n",
       "      <td>3</td>\n",
       "      <td>Grumpier Old Men (1995)</td>\n",
       "      <td>Comedy|Romance</td>\n",
       "    </tr>\n",
       "    <tr>\n",
       "      <th>3</th>\n",
       "      <td>4</td>\n",
       "      <td>Waiting to Exhale (1995)</td>\n",
       "      <td>Comedy|Drama|Romance</td>\n",
       "    </tr>\n",
       "    <tr>\n",
       "      <th>4</th>\n",
       "      <td>5</td>\n",
       "      <td>Father of the Bride Part II (1995)</td>\n",
       "      <td>Comedy</td>\n",
       "    </tr>\n",
       "  </tbody>\n",
       "</table>\n",
       "</div>"
      ],
      "text/plain": [
       "   movieId                               title  \\\n",
       "0        1                    Toy Story (1995)   \n",
       "1        2                      Jumanji (1995)   \n",
       "2        3             Grumpier Old Men (1995)   \n",
       "3        4            Waiting to Exhale (1995)   \n",
       "4        5  Father of the Bride Part II (1995)   \n",
       "\n",
       "                                        genres  \n",
       "0  Adventure|Animation|Children|Comedy|Fantasy  \n",
       "1                   Adventure|Children|Fantasy  \n",
       "2                               Comedy|Romance  \n",
       "3                         Comedy|Drama|Romance  \n",
       "4                                       Comedy  "
      ]
     },
     "execution_count": 4,
     "metadata": {},
     "output_type": "execute_result"
    }
   ],
   "source": [
    "movies.head()"
   ]
  },
  {
   "cell_type": "code",
   "execution_count": 5,
   "id": "6034754f",
   "metadata": {},
   "outputs": [
    {
     "data": {
      "text/html": [
       "<div>\n",
       "<style scoped>\n",
       "    .dataframe tbody tr th:only-of-type {\n",
       "        vertical-align: middle;\n",
       "    }\n",
       "\n",
       "    .dataframe tbody tr th {\n",
       "        vertical-align: top;\n",
       "    }\n",
       "\n",
       "    .dataframe thead th {\n",
       "        text-align: right;\n",
       "    }\n",
       "</style>\n",
       "<table border=\"1\" class=\"dataframe\">\n",
       "  <thead>\n",
       "    <tr style=\"text-align: right;\">\n",
       "      <th></th>\n",
       "      <th>userId</th>\n",
       "      <th>movieId</th>\n",
       "      <th>rating</th>\n",
       "      <th>timestamp</th>\n",
       "    </tr>\n",
       "  </thead>\n",
       "  <tbody>\n",
       "    <tr>\n",
       "      <th>0</th>\n",
       "      <td>1</td>\n",
       "      <td>1</td>\n",
       "      <td>4.0</td>\n",
       "      <td>964982703</td>\n",
       "    </tr>\n",
       "    <tr>\n",
       "      <th>1</th>\n",
       "      <td>1</td>\n",
       "      <td>3</td>\n",
       "      <td>4.0</td>\n",
       "      <td>964981247</td>\n",
       "    </tr>\n",
       "    <tr>\n",
       "      <th>2</th>\n",
       "      <td>1</td>\n",
       "      <td>6</td>\n",
       "      <td>4.0</td>\n",
       "      <td>964982224</td>\n",
       "    </tr>\n",
       "    <tr>\n",
       "      <th>3</th>\n",
       "      <td>1</td>\n",
       "      <td>47</td>\n",
       "      <td>5.0</td>\n",
       "      <td>964983815</td>\n",
       "    </tr>\n",
       "    <tr>\n",
       "      <th>4</th>\n",
       "      <td>1</td>\n",
       "      <td>50</td>\n",
       "      <td>5.0</td>\n",
       "      <td>964982931</td>\n",
       "    </tr>\n",
       "  </tbody>\n",
       "</table>\n",
       "</div>"
      ],
      "text/plain": [
       "   userId  movieId  rating  timestamp\n",
       "0       1        1     4.0  964982703\n",
       "1       1        3     4.0  964981247\n",
       "2       1        6     4.0  964982224\n",
       "3       1       47     5.0  964983815\n",
       "4       1       50     5.0  964982931"
      ]
     },
     "execution_count": 5,
     "metadata": {},
     "output_type": "execute_result"
    }
   ],
   "source": [
    "ratings.head()"
   ]
  },
  {
   "cell_type": "markdown",
   "id": "2e4db50e-f1c1-4717-bb39-b80872ed7bba",
   "metadata": {},
   "source": [
    "ratings from 0 to 5"
   ]
  },
  {
   "cell_type": "code",
   "execution_count": 6,
   "id": "be3e6629-7e2b-49ce-8d26-c5602cae08f9",
   "metadata": {},
   "outputs": [
    {
     "data": {
      "text/plain": [
       "(610, 9724)"
      ]
     },
     "execution_count": 6,
     "metadata": {},
     "output_type": "execute_result"
    }
   ],
   "source": [
    "ratings.userId.nunique(), ratings.movieId.nunique()"
   ]
  },
  {
   "cell_type": "code",
   "execution_count": 7,
   "id": "62e4651f-0ce3-4275-ac1f-958592701b4b",
   "metadata": {},
   "outputs": [
    {
     "data": {
      "text/plain": [
       "[0.5, 1.0, 1.5, 2.0, 2.5, 3.0, 3.5, 4.0, 4.5, 5.0]"
      ]
     },
     "execution_count": 7,
     "metadata": {},
     "output_type": "execute_result"
    }
   ],
   "source": [
    "sorted(ratings.rating.unique())"
   ]
  },
  {
   "cell_type": "code",
   "execution_count": 8,
   "id": "9c1932e6-a813-4f6e-90fd-f14fc3923b38",
   "metadata": {},
   "outputs": [],
   "source": [
    "movieIds = np.sort(ratings.movieId.unique())\n",
    "movie_id_to_idx_map = {v: i for i, v in enumerate(movieIds)}\n",
    "movie_idx_to_id_map = {i: v for i, v in enumerate(movieIds)}"
   ]
  },
  {
   "cell_type": "code",
   "execution_count": 9,
   "id": "46ccd643",
   "metadata": {},
   "outputs": [],
   "source": [
    "reader = Reader(rating_scale=(0, 5))\n",
    "data = Dataset.load_from_df(ratings[['userId', 'movieId', 'rating']], reader)"
   ]
  },
  {
   "cell_type": "markdown",
   "id": "10aec87b-ee37-4e36-b0f3-785b4a6f7cac",
   "metadata": {},
   "source": [
    "# KNN Based approach Item-Item Similarity"
   ]
  },
  {
   "cell_type": "code",
   "execution_count": 10,
   "id": "e460c3d6-3e11-4880-bfac-eda2792d41ab",
   "metadata": {},
   "outputs": [],
   "source": [
    "sim_options = {'user_based': False} # item item based\n",
    "knn = KNNBasic(k=30, sim_options=sim_options)"
   ]
  },
  {
   "cell_type": "code",
   "execution_count": 11,
   "id": "26d6d49c-0d61-4bbd-94dd-b1a26410996c",
   "metadata": {},
   "outputs": [
    {
     "name": "stdout",
     "output_type": "stream",
     "text": [
      "Computing the msd similarity matrix...\n",
      "Done computing similarity matrix.\n",
      "Computing the msd similarity matrix...\n",
      "Done computing similarity matrix.\n",
      "Computing the msd similarity matrix...\n",
      "Done computing similarity matrix.\n",
      "Computing the msd similarity matrix...\n",
      "Done computing similarity matrix.\n",
      "Computing the msd similarity matrix...\n",
      "Done computing similarity matrix.\n",
      "Evaluating RMSE, MAE of algorithm KNNBasic on 5 split(s).\n",
      "\n",
      "                  Fold 1  Fold 2  Fold 3  Fold 4  Fold 5  Mean    Std     \n",
      "RMSE (testset)    0.9164  0.9159  0.9145  0.9159  0.9011  0.9128  0.0059  \n",
      "MAE (testset)     0.7065  0.7042  0.7048  0.7070  0.6968  0.7039  0.0037  \n",
      "Fit time          6.30    6.54    6.41    6.50    6.50    6.45    0.09    \n",
      "Test time         9.83    9.67    9.75    9.87    9.76    9.78    0.07    \n"
     ]
    }
   ],
   "source": [
    "# evaluate using cross validation\n",
    "cv_knn = cross_validate(knn, data, measures=['RMSE', 'MAE'], cv=5, verbose=True)"
   ]
  },
  {
   "cell_type": "code",
   "execution_count": 12,
   "id": "db1778bc-503e-4082-b1b5-64f833f3957c",
   "metadata": {},
   "outputs": [],
   "source": [
    "# build model on whole data\n",
    "train = data.build_full_trainset()"
   ]
  },
  {
   "cell_type": "code",
   "execution_count": 13,
   "id": "7b9eadc0-8283-4990-96bb-fbf14cbe4ae3",
   "metadata": {},
   "outputs": [
    {
     "name": "stdout",
     "output_type": "stream",
     "text": [
      "Computing the msd similarity matrix...\n",
      "Done computing similarity matrix.\n"
     ]
    },
    {
     "data": {
      "text/plain": [
       "<surprise.prediction_algorithms.knns.KNNBasic at 0x1210e54f0>"
      ]
     },
     "execution_count": 13,
     "metadata": {},
     "output_type": "execute_result"
    }
   ],
   "source": [
    "knn.fit(train)"
   ]
  },
  {
   "cell_type": "code",
   "execution_count": 14,
   "id": "4c71d842-d240-429b-9435-767be3a622c8",
   "metadata": {},
   "outputs": [
    {
     "data": {
      "text/plain": [
       "[96, 280, 287, 326, 367]"
      ]
     },
     "execution_count": 14,
     "metadata": {},
     "output_type": "execute_result"
    }
   ],
   "source": [
    "knn.get_neighbors(0,5)"
   ]
  },
  {
   "cell_type": "markdown",
   "id": "2eab6107-dc30-48d8-9be3-bab83f471535",
   "metadata": {},
   "source": [
    "# Last rated movie for every user"
   ]
  },
  {
   "cell_type": "code",
   "execution_count": 15,
   "id": "567f9697",
   "metadata": {},
   "outputs": [
    {
     "data": {
      "text/html": [
       "<div>\n",
       "<style scoped>\n",
       "    .dataframe tbody tr th:only-of-type {\n",
       "        vertical-align: middle;\n",
       "    }\n",
       "\n",
       "    .dataframe tbody tr th {\n",
       "        vertical-align: top;\n",
       "    }\n",
       "\n",
       "    .dataframe thead th {\n",
       "        text-align: right;\n",
       "    }\n",
       "</style>\n",
       "<table border=\"1\" class=\"dataframe\">\n",
       "  <thead>\n",
       "    <tr style=\"text-align: right;\">\n",
       "      <th></th>\n",
       "      <th>userId</th>\n",
       "      <th>movieId</th>\n",
       "      <th>rating</th>\n",
       "      <th>timestamp</th>\n",
       "    </tr>\n",
       "  </thead>\n",
       "  <tbody>\n",
       "    <tr>\n",
       "      <th>161</th>\n",
       "      <td>1</td>\n",
       "      <td>2492</td>\n",
       "      <td>4.0</td>\n",
       "      <td>965719662</td>\n",
       "    </tr>\n",
       "    <tr>\n",
       "      <th>247</th>\n",
       "      <td>2</td>\n",
       "      <td>80489</td>\n",
       "      <td>4.5</td>\n",
       "      <td>1445715340</td>\n",
       "    </tr>\n",
       "    <tr>\n",
       "      <th>283</th>\n",
       "      <td>3</td>\n",
       "      <td>3024</td>\n",
       "      <td>4.5</td>\n",
       "      <td>1306464054</td>\n",
       "    </tr>\n",
       "    <tr>\n",
       "      <th>502</th>\n",
       "      <td>4</td>\n",
       "      <td>4246</td>\n",
       "      <td>4.0</td>\n",
       "      <td>1007574542</td>\n",
       "    </tr>\n",
       "    <tr>\n",
       "      <th>527</th>\n",
       "      <td>5</td>\n",
       "      <td>247</td>\n",
       "      <td>5.0</td>\n",
       "      <td>847435337</td>\n",
       "    </tr>\n",
       "  </tbody>\n",
       "</table>\n",
       "</div>"
      ],
      "text/plain": [
       "     userId  movieId  rating   timestamp\n",
       "161       1     2492     4.0   965719662\n",
       "247       2    80489     4.5  1445715340\n",
       "283       3     3024     4.5  1306464054\n",
       "502       4     4246     4.0  1007574542\n",
       "527       5      247     5.0   847435337"
      ]
     },
     "execution_count": 15,
     "metadata": {},
     "output_type": "execute_result"
    }
   ],
   "source": [
    "# last rated - last movie rated as per timestamp having more than 3 rating\n",
    "last_rated = ratings[ratings.rating>=3].sort_values(['userId', 'timestamp'], ascending=[True, False]).groupby('userId').head(1)\n",
    "last_rated.head()"
   ]
  },
  {
   "cell_type": "code",
   "execution_count": 16,
   "id": "d8e3deaa-a99f-4fec-a73e-8332267c5dad",
   "metadata": {},
   "outputs": [],
   "source": [
    "def movieId_to_movieIdx(movieId):\n",
    "    return movie_id_to_idx_map.get(movieId, -1)\n",
    "\n",
    "def movieIdx_to_movieId(movieIdx):\n",
    "    return movie_idx_to_id_map.get(movieIdx, -1)"
   ]
  },
  {
   "cell_type": "code",
   "execution_count": 17,
   "id": "256f9cec-293d-45bc-aff2-5d0aac908e3e",
   "metadata": {},
   "outputs": [],
   "source": [
    "def get_top_n_movies_ids_itemitem(knn, movieId, n=5):\n",
    "    '''\n",
    "    using knn basedd item-item model,  find the top n neighbours based on similarity scores\n",
    "    returns: list of n movieIds\n",
    "    '''\n",
    "    midx = movieId_to_movieIdx(movieId)\n",
    "    if midx < 0:\n",
    "        return \"Movie not found\"\n",
    "    return [movieIdx_to_movieId(i) for i in knn.get_neighbors(midx, n)]"
   ]
  },
  {
   "cell_type": "code",
   "execution_count": 18,
   "id": "9c4613fe-3cf0-4542-b3c5-1436902b2b14",
   "metadata": {},
   "outputs": [],
   "source": [
    "# get top 5 recommendation based on last rated movie (rated 3  or above)\n",
    "last_rated['last_rated_rec'] = last_rated.movieId.apply(lambda x: get_top_n_movies_ids_itemitem(knn, x))"
   ]
  },
  {
   "cell_type": "code",
   "execution_count": 19,
   "id": "3ce79232-e4f4-4d00-a28f-d50b7fedc4fe",
   "metadata": {
    "tags": []
   },
   "outputs": [],
   "source": [
    "# create id to title mapping\n",
    "movie_title_map = movies[['movieId','title']].set_index('movieId').to_dict()['title']"
   ]
  },
  {
   "cell_type": "code",
   "execution_count": 20,
   "id": "517e4c1b-ae86-4413-8884-82a8b5d8e145",
   "metadata": {},
   "outputs": [],
   "source": [
    "# derive titles from the ids - to manually check\n",
    "last_rated['last_rated_movie'] = last_rated['movieId'].apply(lambda x: movie_title_map.get(x,\"\"))\n",
    "last_rated['recommended_movies'] = last_rated['last_rated_rec'].apply(lambda x: [movie_title_map.get(i,\"\") for i in x])"
   ]
  },
  {
   "cell_type": "code",
   "execution_count": 21,
   "id": "31288c07-e26f-4cf3-9047-39cd7e70ea56",
   "metadata": {},
   "outputs": [
    {
     "data": {
      "text/html": [
       "<div>\n",
       "<style scoped>\n",
       "    .dataframe tbody tr th:only-of-type {\n",
       "        vertical-align: middle;\n",
       "    }\n",
       "\n",
       "    .dataframe tbody tr th {\n",
       "        vertical-align: top;\n",
       "    }\n",
       "\n",
       "    .dataframe thead th {\n",
       "        text-align: right;\n",
       "    }\n",
       "</style>\n",
       "<table border=\"1\" class=\"dataframe\">\n",
       "  <thead>\n",
       "    <tr style=\"text-align: right;\">\n",
       "      <th></th>\n",
       "      <th>userId</th>\n",
       "      <th>movieId</th>\n",
       "      <th>rating</th>\n",
       "      <th>timestamp</th>\n",
       "      <th>last_rated_rec</th>\n",
       "      <th>last_rated_movie</th>\n",
       "      <th>recommended_movies</th>\n",
       "    </tr>\n",
       "  </thead>\n",
       "  <tbody>\n",
       "    <tr>\n",
       "      <th>161</th>\n",
       "      <td>1</td>\n",
       "      <td>2492</td>\n",
       "      <td>4.0</td>\n",
       "      <td>965719662</td>\n",
       "      <td>[24, 53, 121, 149, 151]</td>\n",
       "      <td>20 Dates (1998)</td>\n",
       "      <td>[Powder (1995), Lamerica (1994), Boys of St. V...</td>\n",
       "    </tr>\n",
       "    <tr>\n",
       "      <th>247</th>\n",
       "      <td>2</td>\n",
       "      <td>80489</td>\n",
       "      <td>4.5</td>\n",
       "      <td>1445715340</td>\n",
       "      <td>[6, 8, 70, 83, 118]</td>\n",
       "      <td>Town, The (2010)</td>\n",
       "      <td>[Heat (1995), Tom and Huck (1995), From Dusk T...</td>\n",
       "    </tr>\n",
       "    <tr>\n",
       "      <th>283</th>\n",
       "      <td>3</td>\n",
       "      <td>3024</td>\n",
       "      <td>4.5</td>\n",
       "      <td>1306464054</td>\n",
       "      <td>[27, 36, 38, 45, 64]</td>\n",
       "      <td>Piranha (1978)</td>\n",
       "      <td>[Now and Then (1995), Dead Man Walking (1995),...</td>\n",
       "    </tr>\n",
       "    <tr>\n",
       "      <th>502</th>\n",
       "      <td>4</td>\n",
       "      <td>4246</td>\n",
       "      <td>4.0</td>\n",
       "      <td>1007574542</td>\n",
       "      <td>[103, 151, 229, 304, 384]</td>\n",
       "      <td>Bridget Jones's Diary (2001)</td>\n",
       "      <td>[Unforgettable (1996), Rob Roy (1995), Death a...</td>\n",
       "    </tr>\n",
       "    <tr>\n",
       "      <th>527</th>\n",
       "      <td>5</td>\n",
       "      <td>247</td>\n",
       "      <td>5.0</td>\n",
       "      <td>847435337</td>\n",
       "      <td>[47, 108, 128, 166, 178]</td>\n",
       "      <td>Heavenly Creatures (1994)</td>\n",
       "      <td>[Seven (a.k.a. Se7en) (1995), Catwalk (1996), ...</td>\n",
       "    </tr>\n",
       "    <tr>\n",
       "      <th>...</th>\n",
       "      <td>...</td>\n",
       "      <td>...</td>\n",
       "      <td>...</td>\n",
       "      <td>...</td>\n",
       "      <td>...</td>\n",
       "      <td>...</td>\n",
       "      <td>...</td>\n",
       "    </tr>\n",
       "    <tr>\n",
       "      <th>97754</th>\n",
       "      <td>606</td>\n",
       "      <td>2355</td>\n",
       "      <td>3.0</td>\n",
       "      <td>1368460577</td>\n",
       "      <td>[151, 558, 606, 680, 700]</td>\n",
       "      <td>Bug's Life, A (1998)</td>\n",
       "      <td>[Rob Roy (1995), Pagemaster, The (1994), Candy...</td>\n",
       "    </tr>\n",
       "    <tr>\n",
       "      <th>98664</th>\n",
       "      <td>607</td>\n",
       "      <td>4069</td>\n",
       "      <td>3.0</td>\n",
       "      <td>997847203</td>\n",
       "      <td>[9, 10, 44, 52, 53]</td>\n",
       "      <td>Wedding Planner, The (2001)</td>\n",
       "      <td>[Sudden Death (1995), GoldenEye (1995), Mortal...</td>\n",
       "    </tr>\n",
       "    <tr>\n",
       "      <th>99494</th>\n",
       "      <td>608</td>\n",
       "      <td>52245</td>\n",
       "      <td>3.0</td>\n",
       "      <td>1189563917</td>\n",
       "      <td>[6, 7, 18, 25, 42]</td>\n",
       "      <td>Blades of Glory (2007)</td>\n",
       "      <td>[Heat (1995), Sabrina (1995), Four Rooms (1995...</td>\n",
       "    </tr>\n",
       "    <tr>\n",
       "      <th>99523</th>\n",
       "      <td>609</td>\n",
       "      <td>650</td>\n",
       "      <td>3.0</td>\n",
       "      <td>847221080</td>\n",
       "      <td>[151, 193, 248, 257, 261]</td>\n",
       "      <td>Moll Flanders (1996)</td>\n",
       "      <td>[Rob Roy (1995), Showgirls (1995), Houseguest ...</td>\n",
       "    </tr>\n",
       "    <tr>\n",
       "      <th>99775</th>\n",
       "      <td>610</td>\n",
       "      <td>3917</td>\n",
       "      <td>4.0</td>\n",
       "      <td>1495959411</td>\n",
       "      <td>[58, 166, 176, 187, 206]</td>\n",
       "      <td>Hellraiser (1987)</td>\n",
       "      <td>[Postman, The (Postino, Il) (1994), Doom Gener...</td>\n",
       "    </tr>\n",
       "  </tbody>\n",
       "</table>\n",
       "<p>609 rows × 7 columns</p>\n",
       "</div>"
      ],
      "text/plain": [
       "       userId  movieId  rating   timestamp             last_rated_rec  \\\n",
       "161         1     2492     4.0   965719662    [24, 53, 121, 149, 151]   \n",
       "247         2    80489     4.5  1445715340        [6, 8, 70, 83, 118]   \n",
       "283         3     3024     4.5  1306464054       [27, 36, 38, 45, 64]   \n",
       "502         4     4246     4.0  1007574542  [103, 151, 229, 304, 384]   \n",
       "527         5      247     5.0   847435337   [47, 108, 128, 166, 178]   \n",
       "...       ...      ...     ...         ...                        ...   \n",
       "97754     606     2355     3.0  1368460577  [151, 558, 606, 680, 700]   \n",
       "98664     607     4069     3.0   997847203        [9, 10, 44, 52, 53]   \n",
       "99494     608    52245     3.0  1189563917         [6, 7, 18, 25, 42]   \n",
       "99523     609      650     3.0   847221080  [151, 193, 248, 257, 261]   \n",
       "99775     610     3917     4.0  1495959411   [58, 166, 176, 187, 206]   \n",
       "\n",
       "                   last_rated_movie  \\\n",
       "161                 20 Dates (1998)   \n",
       "247                Town, The (2010)   \n",
       "283                  Piranha (1978)   \n",
       "502    Bridget Jones's Diary (2001)   \n",
       "527       Heavenly Creatures (1994)   \n",
       "...                             ...   \n",
       "97754          Bug's Life, A (1998)   \n",
       "98664   Wedding Planner, The (2001)   \n",
       "99494        Blades of Glory (2007)   \n",
       "99523          Moll Flanders (1996)   \n",
       "99775             Hellraiser (1987)   \n",
       "\n",
       "                                      recommended_movies  \n",
       "161    [Powder (1995), Lamerica (1994), Boys of St. V...  \n",
       "247    [Heat (1995), Tom and Huck (1995), From Dusk T...  \n",
       "283    [Now and Then (1995), Dead Man Walking (1995),...  \n",
       "502    [Unforgettable (1996), Rob Roy (1995), Death a...  \n",
       "527    [Seven (a.k.a. Se7en) (1995), Catwalk (1996), ...  \n",
       "...                                                  ...  \n",
       "97754  [Rob Roy (1995), Pagemaster, The (1994), Candy...  \n",
       "98664  [Sudden Death (1995), GoldenEye (1995), Mortal...  \n",
       "99494  [Heat (1995), Sabrina (1995), Four Rooms (1995...  \n",
       "99523  [Rob Roy (1995), Showgirls (1995), Houseguest ...  \n",
       "99775  [Postman, The (Postino, Il) (1994), Doom Gener...  \n",
       "\n",
       "[609 rows x 7 columns]"
      ]
     },
     "execution_count": 21,
     "metadata": {},
     "output_type": "execute_result"
    }
   ],
   "source": [
    "last_rated"
   ]
  },
  {
   "cell_type": "code",
   "execution_count": null,
   "id": "a421eba3-2d3b-4a1d-82d7-9ce91f20a503",
   "metadata": {},
   "outputs": [],
   "source": []
  }
 ],
 "metadata": {
  "kernelspec": {
   "display_name": "Python 3 (ipykernel)",
   "language": "python",
   "name": "python3"
  },
  "language_info": {
   "codemirror_mode": {
    "name": "ipython",
    "version": 3
   },
   "file_extension": ".py",
   "mimetype": "text/x-python",
   "name": "python",
   "nbconvert_exporter": "python",
   "pygments_lexer": "ipython3",
   "version": "3.8.0"
  }
 },
 "nbformat": 4,
 "nbformat_minor": 5
}
