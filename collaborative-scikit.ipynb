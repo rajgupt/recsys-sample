{
 "cells": [
  {
   "cell_type": "code",
   "execution_count": 1,
   "id": "008d3f85",
   "metadata": {},
   "outputs": [],
   "source": [
    "import pandas as pd\n",
    "import numpy as np \n",
    "from surprise import Reader, Dataset, SVD\n",
    "from surprise.model_selection import cross_validate\n",
    "from collections import defaultdict"
   ]
  },
  {
   "cell_type": "code",
   "execution_count": 2,
   "id": "261e52f1-b677-4c16-8f58-c650f51b8143",
   "metadata": {},
   "outputs": [],
   "source": [
    "from surprise import KNNBasic, accuracy, KNNWithMeans\n",
    "from surprise.model_selection import train_test_split, GridSearchCV"
   ]
  },
  {
   "cell_type": "code",
   "execution_count": 3,
   "id": "cc63c085",
   "metadata": {},
   "outputs": [],
   "source": [
    "ratings = pd.read_csv('data/ratings.csv')\n",
    "movies = pd.read_csv('data/movies.csv')"
   ]
  },
  {
   "cell_type": "code",
   "execution_count": 4,
   "id": "29a5e946-b9a8-4339-a89a-d9a5ff3a3dc6",
   "metadata": {},
   "outputs": [
    {
     "data": {
      "text/html": [
       "<div>\n",
       "<style scoped>\n",
       "    .dataframe tbody tr th:only-of-type {\n",
       "        vertical-align: middle;\n",
       "    }\n",
       "\n",
       "    .dataframe tbody tr th {\n",
       "        vertical-align: top;\n",
       "    }\n",
       "\n",
       "    .dataframe thead th {\n",
       "        text-align: right;\n",
       "    }\n",
       "</style>\n",
       "<table border=\"1\" class=\"dataframe\">\n",
       "  <thead>\n",
       "    <tr style=\"text-align: right;\">\n",
       "      <th></th>\n",
       "      <th>movieId</th>\n",
       "      <th>title</th>\n",
       "      <th>genres</th>\n",
       "    </tr>\n",
       "  </thead>\n",
       "  <tbody>\n",
       "    <tr>\n",
       "      <th>0</th>\n",
       "      <td>1</td>\n",
       "      <td>Toy Story (1995)</td>\n",
       "      <td>Adventure|Animation|Children|Comedy|Fantasy</td>\n",
       "    </tr>\n",
       "    <tr>\n",
       "      <th>1</th>\n",
       "      <td>2</td>\n",
       "      <td>Jumanji (1995)</td>\n",
       "      <td>Adventure|Children|Fantasy</td>\n",
       "    </tr>\n",
       "    <tr>\n",
       "      <th>2</th>\n",
       "      <td>3</td>\n",
       "      <td>Grumpier Old Men (1995)</td>\n",
       "      <td>Comedy|Romance</td>\n",
       "    </tr>\n",
       "    <tr>\n",
       "      <th>3</th>\n",
       "      <td>4</td>\n",
       "      <td>Waiting to Exhale (1995)</td>\n",
       "      <td>Comedy|Drama|Romance</td>\n",
       "    </tr>\n",
       "    <tr>\n",
       "      <th>4</th>\n",
       "      <td>5</td>\n",
       "      <td>Father of the Bride Part II (1995)</td>\n",
       "      <td>Comedy</td>\n",
       "    </tr>\n",
       "  </tbody>\n",
       "</table>\n",
       "</div>"
      ],
      "text/plain": [
       "   movieId                               title  \\\n",
       "0        1                    Toy Story (1995)   \n",
       "1        2                      Jumanji (1995)   \n",
       "2        3             Grumpier Old Men (1995)   \n",
       "3        4            Waiting to Exhale (1995)   \n",
       "4        5  Father of the Bride Part II (1995)   \n",
       "\n",
       "                                        genres  \n",
       "0  Adventure|Animation|Children|Comedy|Fantasy  \n",
       "1                   Adventure|Children|Fantasy  \n",
       "2                               Comedy|Romance  \n",
       "3                         Comedy|Drama|Romance  \n",
       "4                                       Comedy  "
      ]
     },
     "execution_count": 4,
     "metadata": {},
     "output_type": "execute_result"
    }
   ],
   "source": [
    "movies.head()"
   ]
  },
  {
   "cell_type": "code",
   "execution_count": 5,
   "id": "6034754f",
   "metadata": {},
   "outputs": [
    {
     "data": {
      "text/html": [
       "<div>\n",
       "<style scoped>\n",
       "    .dataframe tbody tr th:only-of-type {\n",
       "        vertical-align: middle;\n",
       "    }\n",
       "\n",
       "    .dataframe tbody tr th {\n",
       "        vertical-align: top;\n",
       "    }\n",
       "\n",
       "    .dataframe thead th {\n",
       "        text-align: right;\n",
       "    }\n",
       "</style>\n",
       "<table border=\"1\" class=\"dataframe\">\n",
       "  <thead>\n",
       "    <tr style=\"text-align: right;\">\n",
       "      <th></th>\n",
       "      <th>userId</th>\n",
       "      <th>movieId</th>\n",
       "      <th>rating</th>\n",
       "      <th>timestamp</th>\n",
       "    </tr>\n",
       "  </thead>\n",
       "  <tbody>\n",
       "    <tr>\n",
       "      <th>0</th>\n",
       "      <td>1</td>\n",
       "      <td>1</td>\n",
       "      <td>4.0</td>\n",
       "      <td>964982703</td>\n",
       "    </tr>\n",
       "    <tr>\n",
       "      <th>1</th>\n",
       "      <td>1</td>\n",
       "      <td>3</td>\n",
       "      <td>4.0</td>\n",
       "      <td>964981247</td>\n",
       "    </tr>\n",
       "    <tr>\n",
       "      <th>2</th>\n",
       "      <td>1</td>\n",
       "      <td>6</td>\n",
       "      <td>4.0</td>\n",
       "      <td>964982224</td>\n",
       "    </tr>\n",
       "    <tr>\n",
       "      <th>3</th>\n",
       "      <td>1</td>\n",
       "      <td>47</td>\n",
       "      <td>5.0</td>\n",
       "      <td>964983815</td>\n",
       "    </tr>\n",
       "    <tr>\n",
       "      <th>4</th>\n",
       "      <td>1</td>\n",
       "      <td>50</td>\n",
       "      <td>5.0</td>\n",
       "      <td>964982931</td>\n",
       "    </tr>\n",
       "  </tbody>\n",
       "</table>\n",
       "</div>"
      ],
      "text/plain": [
       "   userId  movieId  rating  timestamp\n",
       "0       1        1     4.0  964982703\n",
       "1       1        3     4.0  964981247\n",
       "2       1        6     4.0  964982224\n",
       "3       1       47     5.0  964983815\n",
       "4       1       50     5.0  964982931"
      ]
     },
     "execution_count": 5,
     "metadata": {},
     "output_type": "execute_result"
    }
   ],
   "source": [
    "ratings.head()"
   ]
  },
  {
   "cell_type": "markdown",
   "id": "2e4db50e-f1c1-4717-bb39-b80872ed7bba",
   "metadata": {},
   "source": [
    "ratings from 0 to 5"
   ]
  },
  {
   "cell_type": "code",
   "execution_count": 6,
   "id": "be3e6629-7e2b-49ce-8d26-c5602cae08f9",
   "metadata": {},
   "outputs": [
    {
     "data": {
      "text/plain": [
       "(610, 9724)"
      ]
     },
     "execution_count": 6,
     "metadata": {},
     "output_type": "execute_result"
    }
   ],
   "source": [
    "ratings.userId.nunique(), ratings.movieId.nunique()"
   ]
  },
  {
   "cell_type": "code",
   "execution_count": 7,
   "id": "62e4651f-0ce3-4275-ac1f-958592701b4b",
   "metadata": {},
   "outputs": [
    {
     "data": {
      "text/plain": [
       "[0.5, 1.0, 1.5, 2.0, 2.5, 3.0, 3.5, 4.0, 4.5, 5.0]"
      ]
     },
     "execution_count": 7,
     "metadata": {},
     "output_type": "execute_result"
    }
   ],
   "source": [
    "sorted(ratings.rating.unique())"
   ]
  },
  {
   "cell_type": "code",
   "execution_count": 8,
   "id": "9c1932e6-a813-4f6e-90fd-f14fc3923b38",
   "metadata": {},
   "outputs": [],
   "source": [
    "movieIds = np.sort(ratings.movieId.unique())"
   ]
  },
  {
   "cell_type": "code",
   "execution_count": 9,
   "id": "46ccd643",
   "metadata": {},
   "outputs": [],
   "source": [
    "reader = Reader(rating_scale=(0, 5))\n",
    "data = Dataset.load_from_df(ratings[['userId', 'movieId', 'rating']], reader)"
   ]
  },
  {
   "cell_type": "markdown",
   "id": "10aec87b-ee37-4e36-b0f3-785b4a6f7cac",
   "metadata": {},
   "source": [
    "# KNN Based approach Item-Item Similarity"
   ]
  },
  {
   "cell_type": "code",
   "execution_count": 10,
   "id": "15384dfe-f929-497e-867f-96549767556c",
   "metadata": {},
   "outputs": [
    {
     "name": "stdout",
     "output_type": "stream",
     "text": [
      "Computing the msd similarity matrix...\n",
      "Done computing similarity matrix.\n",
      "Computing the msd similarity matrix...\n",
      "Done computing similarity matrix.\n",
      "Computing the msd similarity matrix...\n",
      "Done computing similarity matrix.\n",
      "Computing the msd similarity matrix...\n",
      "Done computing similarity matrix.\n",
      "Computing the msd similarity matrix...\n",
      "Done computing similarity matrix.\n",
      "Computing the msd similarity matrix...\n",
      "Done computing similarity matrix.\n",
      "Computing the cosine similarity matrix...\n",
      "Done computing similarity matrix.\n",
      "Computing the cosine similarity matrix...\n",
      "Done computing similarity matrix.\n",
      "Computing the cosine similarity matrix...\n",
      "Done computing similarity matrix.\n",
      "Computing the cosine similarity matrix...\n",
      "Done computing similarity matrix.\n",
      "Computing the cosine similarity matrix...\n",
      "Done computing similarity matrix.\n",
      "Computing the cosine similarity matrix...\n",
      "Done computing similarity matrix.\n",
      "0.9058940856880865\n",
      "{'sim_options': {'name': 'msd', 'min_support': 3, 'user_based': False}}\n"
     ]
    }
   ],
   "source": [
    "sim_options = {\n",
    "    \"name\": [\"msd\", \"cosine\"],\n",
    "    \"min_support\": [3, 5],\n",
    "    \"user_based\": [False]\n",
    "}\n",
    "\n",
    "param_grid = {\"sim_options\": sim_options}\n",
    "\n",
    "gs = GridSearchCV(KNNWithMeans, param_grid, measures=[\"rmse\", \"mae\"], cv=3)\n",
    "gs.fit(data)\n",
    "\n",
    "print(gs.best_score[\"rmse\"])\n",
    "print(gs.best_params[\"rmse\"])"
   ]
  },
  {
   "cell_type": "markdown",
   "id": "929b720e-d26f-421f-bd2c-18239645971b",
   "metadata": {},
   "source": [
    "KNNWithMeans works better than KNNBasic\n",
    "\n",
    "Hence, would train using KNNWithMeans  using full data"
   ]
  },
  {
   "cell_type": "code",
   "execution_count": 11,
   "id": "db1778bc-503e-4082-b1b5-64f833f3957c",
   "metadata": {},
   "outputs": [],
   "source": [
    "# build model on whole data\n",
    "train = data.build_full_trainset()"
   ]
  },
  {
   "cell_type": "code",
   "execution_count": 12,
   "id": "7b9eadc0-8283-4990-96bb-fbf14cbe4ae3",
   "metadata": {},
   "outputs": [
    {
     "name": "stdout",
     "output_type": "stream",
     "text": [
      "Computing the msd similarity matrix...\n",
      "Done computing similarity matrix.\n"
     ]
    },
    {
     "data": {
      "text/plain": [
       "<surprise.prediction_algorithms.knns.KNNWithMeans at 0x12183bdc0>"
      ]
     },
     "execution_count": 12,
     "metadata": {},
     "output_type": "execute_result"
    }
   ],
   "source": [
    "knn2 = KNNWithMeans(sim_options={'name': 'msd', 'min_support': 3, 'user_based': False})\n",
    "knn2.fit(train)"
   ]
  },
  {
   "cell_type": "code",
   "execution_count": 13,
   "id": "0929e1dd-79ba-42d6-b1a6-4d692a54d745",
   "metadata": {},
   "outputs": [
    {
     "name": "stdout",
     "output_type": "stream",
     "text": [
      "Computing the msd similarity matrix...\n",
      "Done computing similarity matrix.\n"
     ]
    }
   ],
   "source": [
    "sim = knn2.compute_similarities()"
   ]
  },
  {
   "cell_type": "code",
   "execution_count": 14,
   "id": "063e06df-d8ea-481d-82d0-c6cceef3fb92",
   "metadata": {},
   "outputs": [],
   "source": [
    "def get_neighbors(knn, train, riid, n=5, verbose=False):\n",
    "    try:    \n",
    "        neighbor_innner_iids = knn.get_neighbors(train.to_inner_iid(riid),n)\n",
    "        if verbose:\n",
    "            print('neighbor_innner_iids  - ', neighbor_innner_iids)\n",
    "    except:\n",
    "        print(riid)\n",
    "        return []\n",
    "    neighbor_raw_iids = [train.to_raw_iid(i) for i in neighbor_innner_iids]\n",
    "    if verbose:\n",
    "        print('neighbor_raw_iids  - ', neighbor_raw_iids)\n",
    "\n",
    "    return neighbor_raw_iids"
   ]
  },
  {
   "cell_type": "code",
   "execution_count": 15,
   "id": "4c71d842-d240-429b-9435-767be3a622c8",
   "metadata": {},
   "outputs": [
    {
     "data": {
      "text/plain": [
       "[7766, 2940, 2967, 178061, 5833]"
      ]
     },
     "execution_count": 15,
     "metadata": {},
     "output_type": "execute_result"
    }
   ],
   "source": [
    "get_neighbors(knn2, train, 1)"
   ]
  },
  {
   "cell_type": "markdown",
   "id": "2eab6107-dc30-48d8-9be3-bab83f471535",
   "metadata": {},
   "source": [
    "# Last rated movie for every user"
   ]
  },
  {
   "cell_type": "code",
   "execution_count": 16,
   "id": "567f9697",
   "metadata": {},
   "outputs": [
    {
     "data": {
      "text/html": [
       "<div>\n",
       "<style scoped>\n",
       "    .dataframe tbody tr th:only-of-type {\n",
       "        vertical-align: middle;\n",
       "    }\n",
       "\n",
       "    .dataframe tbody tr th {\n",
       "        vertical-align: top;\n",
       "    }\n",
       "\n",
       "    .dataframe thead th {\n",
       "        text-align: right;\n",
       "    }\n",
       "</style>\n",
       "<table border=\"1\" class=\"dataframe\">\n",
       "  <thead>\n",
       "    <tr style=\"text-align: right;\">\n",
       "      <th></th>\n",
       "      <th>userId</th>\n",
       "      <th>movieId</th>\n",
       "      <th>rating</th>\n",
       "      <th>timestamp</th>\n",
       "    </tr>\n",
       "  </thead>\n",
       "  <tbody>\n",
       "    <tr>\n",
       "      <th>161</th>\n",
       "      <td>1</td>\n",
       "      <td>2492</td>\n",
       "      <td>4.0</td>\n",
       "      <td>965719662</td>\n",
       "    </tr>\n",
       "    <tr>\n",
       "      <th>247</th>\n",
       "      <td>2</td>\n",
       "      <td>80489</td>\n",
       "      <td>4.5</td>\n",
       "      <td>1445715340</td>\n",
       "    </tr>\n",
       "    <tr>\n",
       "      <th>283</th>\n",
       "      <td>3</td>\n",
       "      <td>3024</td>\n",
       "      <td>4.5</td>\n",
       "      <td>1306464054</td>\n",
       "    </tr>\n",
       "    <tr>\n",
       "      <th>502</th>\n",
       "      <td>4</td>\n",
       "      <td>4246</td>\n",
       "      <td>4.0</td>\n",
       "      <td>1007574542</td>\n",
       "    </tr>\n",
       "    <tr>\n",
       "      <th>527</th>\n",
       "      <td>5</td>\n",
       "      <td>247</td>\n",
       "      <td>5.0</td>\n",
       "      <td>847435337</td>\n",
       "    </tr>\n",
       "  </tbody>\n",
       "</table>\n",
       "</div>"
      ],
      "text/plain": [
       "     userId  movieId  rating   timestamp\n",
       "161       1     2492     4.0   965719662\n",
       "247       2    80489     4.5  1445715340\n",
       "283       3     3024     4.5  1306464054\n",
       "502       4     4246     4.0  1007574542\n",
       "527       5      247     5.0   847435337"
      ]
     },
     "execution_count": 16,
     "metadata": {},
     "output_type": "execute_result"
    }
   ],
   "source": [
    "# last rated - last movie rated as per timestamp having more than 3 rating\n",
    "last_rated = ratings[ratings.rating>=3].sort_values(['userId', 'timestamp'], ascending=[True, False]).groupby('userId').head(1)\n",
    "last_rated.head()"
   ]
  },
  {
   "cell_type": "code",
   "execution_count": 17,
   "id": "daca229f-77a0-4e06-bb27-d4ad19114d49",
   "metadata": {},
   "outputs": [],
   "source": [
    "last_rated['inner_iid'] = last_rated.movieId.apply(lambda x: train.to_inner_iid(x))"
   ]
  },
  {
   "cell_type": "code",
   "execution_count": 18,
   "id": "9c4613fe-3cf0-4542-b3c5-1436902b2b14",
   "metadata": {},
   "outputs": [],
   "source": [
    "# get top 5 recommendation based on last rated movie (rated 3  or above)\n",
    "last_rated['last_rated_rec'] = last_rated.movieId.apply(lambda x: get_neighbors(knn2, train, x))"
   ]
  },
  {
   "cell_type": "code",
   "execution_count": 19,
   "id": "3ce79232-e4f4-4d00-a28f-d50b7fedc4fe",
   "metadata": {
    "tags": []
   },
   "outputs": [],
   "source": [
    "# create id to title mapping\n",
    "movie_title_map = movies[['movieId','title']].set_index('movieId').to_dict()['title']"
   ]
  },
  {
   "cell_type": "code",
   "execution_count": 20,
   "id": "517e4c1b-ae86-4413-8884-82a8b5d8e145",
   "metadata": {},
   "outputs": [],
   "source": [
    "# derive titles from the ids - to manually check\n",
    "last_rated['last_rated_movie'] = last_rated['movieId'].apply(lambda x: movie_title_map.get(x,\"\"))\n",
    "last_rated['recommended_movies'] = last_rated['last_rated_rec'].apply(lambda x: [movie_title_map.get(i,\"\") for i in x])"
   ]
  },
  {
   "cell_type": "code",
   "execution_count": 21,
   "id": "31288c07-e26f-4cf3-9047-39cd7e70ea56",
   "metadata": {},
   "outputs": [
    {
     "data": {
      "text/html": [
       "<div>\n",
       "<style scoped>\n",
       "    .dataframe tbody tr th:only-of-type {\n",
       "        vertical-align: middle;\n",
       "    }\n",
       "\n",
       "    .dataframe tbody tr th {\n",
       "        vertical-align: top;\n",
       "    }\n",
       "\n",
       "    .dataframe thead th {\n",
       "        text-align: right;\n",
       "    }\n",
       "</style>\n",
       "<table border=\"1\" class=\"dataframe\">\n",
       "  <thead>\n",
       "    <tr style=\"text-align: right;\">\n",
       "      <th></th>\n",
       "      <th>userId</th>\n",
       "      <th>movieId</th>\n",
       "      <th>rating</th>\n",
       "      <th>timestamp</th>\n",
       "      <th>inner_iid</th>\n",
       "      <th>last_rated_rec</th>\n",
       "      <th>last_rated_movie</th>\n",
       "      <th>recommended_movies</th>\n",
       "    </tr>\n",
       "  </thead>\n",
       "  <tbody>\n",
       "    <tr>\n",
       "      <th>161</th>\n",
       "      <td>1</td>\n",
       "      <td>2492</td>\n",
       "      <td>4.0</td>\n",
       "      <td>965719662</td>\n",
       "      <td>161</td>\n",
       "      <td>[367, 2054, 329, 1527, 1375]</td>\n",
       "      <td>20 Dates (1998)</td>\n",
       "      <td>[Mask, The (1994), Honey, I Shrunk the Kids (1...</td>\n",
       "    </tr>\n",
       "    <tr>\n",
       "      <th>247</th>\n",
       "      <td>2</td>\n",
       "      <td>80489</td>\n",
       "      <td>4.5</td>\n",
       "      <td>1445715340</td>\n",
       "      <td>245</td>\n",
       "      <td>[2944, 1084, 161582, 1997, 10]</td>\n",
       "      <td>Town, The (2010)</td>\n",
       "      <td>[Dirty Dozen, The (1967), Bonnie and Clyde (19...</td>\n",
       "    </tr>\n",
       "    <tr>\n",
       "      <th>283</th>\n",
       "      <td>3</td>\n",
       "      <td>3024</td>\n",
       "      <td>4.5</td>\n",
       "      <td>1306464054</td>\n",
       "      <td>275</td>\n",
       "      <td>[2641, 1876, 1375, 2699, 316]</td>\n",
       "      <td>Piranha (1978)</td>\n",
       "      <td>[Superman II (1980), Deep Impact (1998), Star ...</td>\n",
       "    </tr>\n",
       "    <tr>\n",
       "      <th>502</th>\n",
       "      <td>4</td>\n",
       "      <td>4246</td>\n",
       "      <td>4.0</td>\n",
       "      <td>1007574542</td>\n",
       "      <td>446</td>\n",
       "      <td>[428, 4880, 2819, 2889, 72605]</td>\n",
       "      <td>Bridget Jones's Diary (2001)</td>\n",
       "      <td>[Bronx Tale, A (1993), Life as a House (2001),...</td>\n",
       "    </tr>\n",
       "    <tr>\n",
       "      <th>527</th>\n",
       "      <td>5</td>\n",
       "      <td>247</td>\n",
       "      <td>5.0</td>\n",
       "      <td>847435337</td>\n",
       "      <td>306</td>\n",
       "      <td>[1057, 1885, 8529, 3189, 61132]</td>\n",
       "      <td>Heavenly Creatures (1994)</td>\n",
       "      <td>[Everyone Says I Love You (1996), Opposite of ...</td>\n",
       "    </tr>\n",
       "    <tr>\n",
       "      <th>...</th>\n",
       "      <td>...</td>\n",
       "      <td>...</td>\n",
       "      <td>...</td>\n",
       "      <td>...</td>\n",
       "      <td>...</td>\n",
       "      <td>...</td>\n",
       "      <td>...</td>\n",
       "      <td>...</td>\n",
       "    </tr>\n",
       "    <tr>\n",
       "      <th>97754</th>\n",
       "      <td>606</td>\n",
       "      <td>2355</td>\n",
       "      <td>3.0</td>\n",
       "      <td>1368460577</td>\n",
       "      <td>1600</td>\n",
       "      <td>[493, 104913, 1011, 2940, 3985]</td>\n",
       "      <td>Bug's Life, A (1998)</td>\n",
       "      <td>[Menace II Society (1993), Rush (2013), Herbie...</td>\n",
       "    </tr>\n",
       "    <tr>\n",
       "      <th>98664</th>\n",
       "      <td>607</td>\n",
       "      <td>4069</td>\n",
       "      <td>3.0</td>\n",
       "      <td>997847203</td>\n",
       "      <td>3311</td>\n",
       "      <td>[362, 2430, 6006, 6264, 6294]</td>\n",
       "      <td>Wedding Planner, The (2001)</td>\n",
       "      <td>[Jungle Book, The (1994), Mighty Joe Young (19...</td>\n",
       "    </tr>\n",
       "    <tr>\n",
       "      <th>99494</th>\n",
       "      <td>608</td>\n",
       "      <td>52245</td>\n",
       "      <td>3.0</td>\n",
       "      <td>1189563917</td>\n",
       "      <td>2985</td>\n",
       "      <td>[4990, 84772, 42725, 48520, 31433]</td>\n",
       "      <td>Blades of Glory (2007)</td>\n",
       "      <td>[Jimmy Neutron: Boy Genius (2001), Paul (2011)...</td>\n",
       "    </tr>\n",
       "    <tr>\n",
       "      <th>99523</th>\n",
       "      <td>609</td>\n",
       "      <td>650</td>\n",
       "      <td>3.0</td>\n",
       "      <td>847221080</td>\n",
       "      <td>7423</td>\n",
       "      <td>[62, 1059, 592, 648, 110]</td>\n",
       "      <td>Moll Flanders (1996)</td>\n",
       "      <td>[Mr. Holland's Opus (1995), William Shakespear...</td>\n",
       "    </tr>\n",
       "    <tr>\n",
       "      <th>99775</th>\n",
       "      <td>610</td>\n",
       "      <td>3917</td>\n",
       "      <td>4.0</td>\n",
       "      <td>1495959411</td>\n",
       "      <td>2934</td>\n",
       "      <td>[338, 2263, 27317, 91630, 423]</td>\n",
       "      <td>Hellraiser (1987)</td>\n",
       "      <td>[Virtuosity (1995), Seventh Sign, The (1988), ...</td>\n",
       "    </tr>\n",
       "  </tbody>\n",
       "</table>\n",
       "<p>609 rows × 8 columns</p>\n",
       "</div>"
      ],
      "text/plain": [
       "       userId  movieId  rating   timestamp  inner_iid  \\\n",
       "161         1     2492     4.0   965719662        161   \n",
       "247         2    80489     4.5  1445715340        245   \n",
       "283         3     3024     4.5  1306464054        275   \n",
       "502         4     4246     4.0  1007574542        446   \n",
       "527         5      247     5.0   847435337        306   \n",
       "...       ...      ...     ...         ...        ...   \n",
       "97754     606     2355     3.0  1368460577       1600   \n",
       "98664     607     4069     3.0   997847203       3311   \n",
       "99494     608    52245     3.0  1189563917       2985   \n",
       "99523     609      650     3.0   847221080       7423   \n",
       "99775     610     3917     4.0  1495959411       2934   \n",
       "\n",
       "                           last_rated_rec              last_rated_movie  \\\n",
       "161          [367, 2054, 329, 1527, 1375]               20 Dates (1998)   \n",
       "247        [2944, 1084, 161582, 1997, 10]              Town, The (2010)   \n",
       "283         [2641, 1876, 1375, 2699, 316]                Piranha (1978)   \n",
       "502        [428, 4880, 2819, 2889, 72605]  Bridget Jones's Diary (2001)   \n",
       "527       [1057, 1885, 8529, 3189, 61132]     Heavenly Creatures (1994)   \n",
       "...                                   ...                           ...   \n",
       "97754     [493, 104913, 1011, 2940, 3985]          Bug's Life, A (1998)   \n",
       "98664       [362, 2430, 6006, 6264, 6294]   Wedding Planner, The (2001)   \n",
       "99494  [4990, 84772, 42725, 48520, 31433]        Blades of Glory (2007)   \n",
       "99523           [62, 1059, 592, 648, 110]          Moll Flanders (1996)   \n",
       "99775      [338, 2263, 27317, 91630, 423]             Hellraiser (1987)   \n",
       "\n",
       "                                      recommended_movies  \n",
       "161    [Mask, The (1994), Honey, I Shrunk the Kids (1...  \n",
       "247    [Dirty Dozen, The (1967), Bonnie and Clyde (19...  \n",
       "283    [Superman II (1980), Deep Impact (1998), Star ...  \n",
       "502    [Bronx Tale, A (1993), Life as a House (2001),...  \n",
       "527    [Everyone Says I Love You (1996), Opposite of ...  \n",
       "...                                                  ...  \n",
       "97754  [Menace II Society (1993), Rush (2013), Herbie...  \n",
       "98664  [Jungle Book, The (1994), Mighty Joe Young (19...  \n",
       "99494  [Jimmy Neutron: Boy Genius (2001), Paul (2011)...  \n",
       "99523  [Mr. Holland's Opus (1995), William Shakespear...  \n",
       "99775  [Virtuosity (1995), Seventh Sign, The (1988), ...  \n",
       "\n",
       "[609 rows x 8 columns]"
      ]
     },
     "execution_count": 21,
     "metadata": {},
     "output_type": "execute_result"
    }
   ],
   "source": [
    "last_rated"
   ]
  },
  {
   "cell_type": "code",
   "execution_count": 22,
   "id": "c099adac-0da2-4d08-bfc4-867e48aa76b4",
   "metadata": {},
   "outputs": [
    {
     "name": "stdout",
     "output_type": "stream",
     "text": [
      "neighbor_innner_iids  -  [22, 125, 599, 1030, 1139]\n",
      "neighbor_raw_iids  -  [367, 2054, 329, 1527, 1375]\n"
     ]
    },
    {
     "data": {
      "text/plain": [
       "[367, 2054, 329, 1527, 1375]"
      ]
     },
     "execution_count": 22,
     "metadata": {},
     "output_type": "execute_result"
    }
   ],
   "source": [
    "get_neighbors(knn2,train,2492, verbose=True)"
   ]
  },
  {
   "cell_type": "code",
   "execution_count": 23,
   "id": "fabb41c0-f039-4cd4-9df8-51c617949929",
   "metadata": {},
   "outputs": [
    {
     "data": {
      "text/html": [
       "<div>\n",
       "<style scoped>\n",
       "    .dataframe tbody tr th:only-of-type {\n",
       "        vertical-align: middle;\n",
       "    }\n",
       "\n",
       "    .dataframe tbody tr th {\n",
       "        vertical-align: top;\n",
       "    }\n",
       "\n",
       "    .dataframe thead th {\n",
       "        text-align: right;\n",
       "    }\n",
       "</style>\n",
       "<table border=\"1\" class=\"dataframe\">\n",
       "  <thead>\n",
       "    <tr style=\"text-align: right;\">\n",
       "      <th></th>\n",
       "      <th>movieId</th>\n",
       "      <th>title</th>\n",
       "      <th>genres</th>\n",
       "    </tr>\n",
       "  </thead>\n",
       "  <tbody>\n",
       "    <tr>\n",
       "      <th>287</th>\n",
       "      <td>329</td>\n",
       "      <td>Star Trek: Generations (1994)</td>\n",
       "      <td>Adventure|Drama|Sci-Fi</td>\n",
       "    </tr>\n",
       "    <tr>\n",
       "      <th>325</th>\n",
       "      <td>367</td>\n",
       "      <td>Mask, The (1994)</td>\n",
       "      <td>Action|Comedy|Crime|Fantasy</td>\n",
       "    </tr>\n",
       "    <tr>\n",
       "      <th>1058</th>\n",
       "      <td>1375</td>\n",
       "      <td>Star Trek III: The Search for Spock (1984)</td>\n",
       "      <td>Action|Adventure|Sci-Fi</td>\n",
       "    </tr>\n",
       "    <tr>\n",
       "      <th>1158</th>\n",
       "      <td>1527</td>\n",
       "      <td>Fifth Element, The (1997)</td>\n",
       "      <td>Action|Adventure|Comedy|Sci-Fi</td>\n",
       "    </tr>\n",
       "    <tr>\n",
       "      <th>1522</th>\n",
       "      <td>2054</td>\n",
       "      <td>Honey, I Shrunk the Kids (1989)</td>\n",
       "      <td>Adventure|Children|Comedy|Fantasy|Sci-Fi</td>\n",
       "    </tr>\n",
       "    <tr>\n",
       "      <th>1874</th>\n",
       "      <td>2492</td>\n",
       "      <td>20 Dates (1998)</td>\n",
       "      <td>Comedy|Romance</td>\n",
       "    </tr>\n",
       "  </tbody>\n",
       "</table>\n",
       "</div>"
      ],
      "text/plain": [
       "      movieId                                       title  \\\n",
       "287       329               Star Trek: Generations (1994)   \n",
       "325       367                            Mask, The (1994)   \n",
       "1058     1375  Star Trek III: The Search for Spock (1984)   \n",
       "1158     1527                   Fifth Element, The (1997)   \n",
       "1522     2054             Honey, I Shrunk the Kids (1989)   \n",
       "1874     2492                             20 Dates (1998)   \n",
       "\n",
       "                                        genres  \n",
       "287                     Adventure|Drama|Sci-Fi  \n",
       "325                Action|Comedy|Crime|Fantasy  \n",
       "1058                   Action|Adventure|Sci-Fi  \n",
       "1158            Action|Adventure|Comedy|Sci-Fi  \n",
       "1522  Adventure|Children|Comedy|Fantasy|Sci-Fi  \n",
       "1874                            Comedy|Romance  "
      ]
     },
     "execution_count": 23,
     "metadata": {},
     "output_type": "execute_result"
    }
   ],
   "source": [
    "movies[movies.movieId.isin([2492,367, 2054, 329, 1527, 1375])]"
   ]
  },
  {
   "cell_type": "code",
   "execution_count": 24,
   "id": "48167bc6-24f5-473e-9944-71e30dafa352",
   "metadata": {},
   "outputs": [],
   "source": [
    "def get_common_reviews(train, m1, m2):\n",
    "    m1_ratings = train.ir[train.to_inner_iid(m1)]\n",
    "    m2_ratings = train.ir[train.to_inner_iid(m2)]\n",
    "    \n",
    "    m1_ratings_dict = {i:j for i, j in m1_ratings}\n",
    "    m2_ratings_dict = {i:j for i, j in m2_ratings}\n",
    "    common = set(m1_ratings_dict.keys()).intersection(set(m2_ratings_dict.keys()))\n",
    "    print('m1 ratings: ', {k: v for k, v in m1_ratings_dict.items() if k in common})\n",
    "    print('m2 ratings: ', {k: v for k, v in m2_ratings_dict.items() if k in common})"
   ]
  },
  {
   "cell_type": "code",
   "execution_count": 25,
   "id": "f83c4db1-5c6d-435d-96a0-76aa760ec9b1",
   "metadata": {},
   "outputs": [
    {
     "name": "stdout",
     "output_type": "stream",
     "text": [
      "m1 ratings:  {44: 4.0, 185: 4.0, 554: 3.0}\n",
      "m2 ratings:  {44: 4.0, 185: 4.0, 554: 3.0}\n"
     ]
    }
   ],
   "source": [
    "get_common_reviews(train, 2492, 1375)"
   ]
  },
  {
   "cell_type": "code",
   "execution_count": 26,
   "id": "93d86d38-7022-48fe-8108-5fa03ab98e12",
   "metadata": {},
   "outputs": [],
   "source": [
    "last_rated.to_pickle('last_rated.pkl')"
   ]
  },
  {
   "cell_type": "markdown",
   "id": "69c91a1a-fe10-48ec-9a96-5aa28cc742f2",
   "metadata": {
    "tags": []
   },
   "source": [
    "# Recommend 5 user for movie starting with S and A"
   ]
  },
  {
   "cell_type": "code",
   "execution_count": 27,
   "id": "454ced35-6daa-4e8f-9159-a1196c9d9a0e",
   "metadata": {},
   "outputs": [],
   "source": [
    "sa_movies = movies[(movies.title.str.startswith('A'))|(movies.title.str.startswith('S'))]\n",
    "sa_ratings = ratings[ratings.movieId.isin(sa_movies.movieId.unique())][['userId', 'movieId', 'rating']]\n",
    "sa_data = Dataset.load_from_df(sa_ratings, reader=reader)\n",
    "sa_train = sa_data.build_full_trainset()"
   ]
  },
  {
   "cell_type": "code",
   "execution_count": 28,
   "id": "3ac8955d-906d-4584-ac0f-c04e171e789e",
   "metadata": {},
   "outputs": [],
   "source": [
    "# predicting only for the pairs which are not rated already\n",
    "sa_test = sa_train.build_anti_testset()\n",
    "predictions = knn2.test(sa_test)"
   ]
  },
  {
   "cell_type": "code",
   "execution_count": 29,
   "id": "ddd6e0bc-561d-4a01-b83c-2217bc8248cb",
   "metadata": {},
   "outputs": [],
   "source": [
    "def get_top_n(predictions, n=5):\n",
    "    \"\"\"Return the top-N recommended for each movie from a set of predictions.\n",
    "    Args:\n",
    "        predictions(list of Prediction objects): The list of predictions, as\n",
    "            returned by the test method of an algorithm.\n",
    "        n(int): The number of recommendation to output for each movie. Default\n",
    "            is 5.\n",
    "    Returns:\n",
    "    A dict where keys are user (raw) ids and values are lists of tuples:\n",
    "        [(raw item id, rating estimation), ...] of size n.\n",
    "    \"\"\"\n",
    "\n",
    "    # First map the predictions to each movie.\n",
    "    top_n = defaultdict(list)\n",
    "    for uid, iid, true_r, est, _ in predictions:\n",
    "        top_n[iid].append((uid, est))\n",
    "\n",
    "    # Then sort the predictions for each user and retrieve the k highest ones.\n",
    "    for iid, movie_ratings in top_n.items():\n",
    "        movie_ratings.sort(key=lambda x: x[1], reverse=True)\n",
    "        top_n[iid] = movie_ratings[:n]\n",
    "\n",
    "    return top_n"
   ]
  },
  {
   "cell_type": "code",
   "execution_count": 30,
   "id": "581721f8-70f7-42b9-93bb-098473d46647",
   "metadata": {},
   "outputs": [],
   "source": [
    "recommended_users = get_top_n(predictions)"
   ]
  },
  {
   "cell_type": "code",
   "execution_count": 31,
   "id": "bee60b4c-cc19-4be1-aa80-ef7c66b53d83",
   "metadata": {},
   "outputs": [
    {
     "name": "stderr",
     "output_type": "stream",
     "text": [
      "/var/folders/82/mcyqtqy17fzd2p_c4_p2k3hx0_jltz/T/ipykernel_82784/3555902440.py:1: SettingWithCopyWarning: \n",
      "A value is trying to be set on a copy of a slice from a DataFrame.\n",
      "Try using .loc[row_indexer,col_indexer] = value instead\n",
      "\n",
      "See the caveats in the documentation: https://pandas.pydata.org/pandas-docs/stable/user_guide/indexing.html#returning-a-view-versus-a-copy\n",
      "  sa_movies['rec_users'] = sa_movies.movieId.apply(lambda x: [u for u, r in recommended_users[x]])\n"
     ]
    }
   ],
   "source": [
    "sa_movies['rec_users'] = sa_movies.movieId.apply(lambda x: [u for u, r in recommended_users[x]])"
   ]
  },
  {
   "cell_type": "code",
   "execution_count": 32,
   "id": "c80912d7-6b58-47d4-b5b1-f483782ea18b",
   "metadata": {},
   "outputs": [
    {
     "data": {
      "text/html": [
       "<div>\n",
       "<style scoped>\n",
       "    .dataframe tbody tr th:only-of-type {\n",
       "        vertical-align: middle;\n",
       "    }\n",
       "\n",
       "    .dataframe tbody tr th {\n",
       "        vertical-align: top;\n",
       "    }\n",
       "\n",
       "    .dataframe thead th {\n",
       "        text-align: right;\n",
       "    }\n",
       "</style>\n",
       "<table border=\"1\" class=\"dataframe\">\n",
       "  <thead>\n",
       "    <tr style=\"text-align: right;\">\n",
       "      <th></th>\n",
       "      <th>movieId</th>\n",
       "      <th>title</th>\n",
       "      <th>genres</th>\n",
       "      <th>rec_users</th>\n",
       "    </tr>\n",
       "  </thead>\n",
       "  <tbody>\n",
       "    <tr>\n",
       "      <th>6</th>\n",
       "      <td>7</td>\n",
       "      <td>Sabrina (1995)</td>\n",
       "      <td>Comedy|Romance</td>\n",
       "      <td>[53, 543, 452, 584, 171]</td>\n",
       "    </tr>\n",
       "    <tr>\n",
       "      <th>8</th>\n",
       "      <td>9</td>\n",
       "      <td>Sudden Death (1995)</td>\n",
       "      <td>Action</td>\n",
       "      <td>[53, 543, 236, 43, 475]</td>\n",
       "    </tr>\n",
       "    <tr>\n",
       "      <th>10</th>\n",
       "      <td>11</td>\n",
       "      <td>American President, The (1995)</td>\n",
       "      <td>Comedy|Drama|Romance</td>\n",
       "      <td>[53, 452, 154, 12, 584]</td>\n",
       "    </tr>\n",
       "    <tr>\n",
       "      <th>16</th>\n",
       "      <td>17</td>\n",
       "      <td>Sense and Sensibility (1995)</td>\n",
       "      <td>Drama|Romance</td>\n",
       "      <td>[53, 276, 43, 12, 154]</td>\n",
       "    </tr>\n",
       "    <tr>\n",
       "      <th>18</th>\n",
       "      <td>19</td>\n",
       "      <td>Ace Ventura: When Nature Calls (1995)</td>\n",
       "      <td>Comedy</td>\n",
       "      <td>[53, 43, 452, 594, 543]</td>\n",
       "    </tr>\n",
       "  </tbody>\n",
       "</table>\n",
       "</div>"
      ],
      "text/plain": [
       "    movieId                                  title                genres  \\\n",
       "6         7                         Sabrina (1995)        Comedy|Romance   \n",
       "8         9                    Sudden Death (1995)                Action   \n",
       "10       11         American President, The (1995)  Comedy|Drama|Romance   \n",
       "16       17           Sense and Sensibility (1995)         Drama|Romance   \n",
       "18       19  Ace Ventura: When Nature Calls (1995)                Comedy   \n",
       "\n",
       "                   rec_users  \n",
       "6   [53, 543, 452, 584, 171]  \n",
       "8    [53, 543, 236, 43, 475]  \n",
       "10   [53, 452, 154, 12, 584]  \n",
       "16    [53, 276, 43, 12, 154]  \n",
       "18   [53, 43, 452, 594, 543]  "
      ]
     },
     "execution_count": 32,
     "metadata": {},
     "output_type": "execute_result"
    }
   ],
   "source": [
    "sa_movies.head()"
   ]
  },
  {
   "cell_type": "code",
   "execution_count": 33,
   "id": "074790a1-d8d5-4846-8fcc-cda2cf9fcd90",
   "metadata": {},
   "outputs": [],
   "source": [
    "sa_movies.to_pickle('sa_movies.pkl')"
   ]
  }
 ],
 "metadata": {
  "kernelspec": {
   "display_name": "Python 3 (ipykernel)",
   "language": "python",
   "name": "python3"
  },
  "language_info": {
   "codemirror_mode": {
    "name": "ipython",
    "version": 3
   },
   "file_extension": ".py",
   "mimetype": "text/x-python",
   "name": "python",
   "nbconvert_exporter": "python",
   "pygments_lexer": "ipython3",
   "version": "3.8.0"
  }
 },
 "nbformat": 4,
 "nbformat_minor": 5
}
